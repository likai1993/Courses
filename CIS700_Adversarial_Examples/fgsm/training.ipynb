{
 "cells": [
  {
   "cell_type": "code",
   "execution_count": 1,
   "metadata": {},
   "outputs": [],
   "source": [
    "import pickle as pkl\n",
    "import torch\n",
    "import torch.nn as nn\n",
    "from torch.autograd import Variable\n",
    "import torchvision\n",
    "import torchvision.transforms as transforms\n",
    "import sys\n",
    "# Hyper-parameters \n",
    "input_size = 784\n",
    "hidden_size = 500\n",
    "num_classes = 10\n",
    "num_epochs = 5\n",
    "batch_size = 100\n",
    "learning_rate = 0.001\n",
    "eps = 0.1\n",
    "\n"
   ]
  },
  {
   "cell_type": "code",
   "execution_count": 2,
   "metadata": {},
   "outputs": [],
   "source": [
    "# Fully connected neural network with one hidden layer\n",
    "class NeuralNet(nn.Module):\n",
    "    def __init__(self, input_size, hidden_size, num_classes):\n",
    "        super(NeuralNet, self).__init__()\n",
    "        self.fc1 = nn.Linear(input_size, hidden_size) \n",
    "        self.relu = nn.ReLU()\n",
    "        self.fc2 = nn.Linear(hidden_size, num_classes)  \n",
    "\n",
    "    def forward(self, x):\n",
    "        x = self.fc1(x)\n",
    "        #print(\"fc1:\", x)\n",
    "        x = self.relu(x)\n",
    "        #print(\"relu:\",x)\n",
    "        x = self.fc2(x)\n",
    "        #print(\"fc2:\", x)\n",
    "        return x\n",
    "\n"
   ]
  },
  {
   "cell_type": "code",
   "execution_count": 3,
   "metadata": {},
   "outputs": [],
   "source": [
    "device = torch.device('cuda' if torch.cuda.is_available() else 'cpu')\n",
    "\n",
    "train_dataset = torchvision.datasets.MNIST(root='./', train=True, transform=transforms.ToTensor(),download=True)\n",
    "\n",
    "test_dataset = torchvision.datasets.MNIST(root='./', train=False, transform=transforms.ToTensor())\n",
    "\n",
    "    # Data loader\n",
    "train_loader = torch.utils.data.DataLoader(dataset=train_dataset, batch_size=batch_size,shuffle=True)\n",
    "\n",
    "test_loader = torch.utils.data.DataLoader(dataset=test_dataset,batch_size=1,shuffle=False)\n"
   ]
  },
  {
   "cell_type": "code",
   "execution_count": 7,
   "metadata": {
    "scrolled": true
   },
   "outputs": [
    {
     "name": "stdout",
     "output_type": "stream",
     "text": [
      "Epoch [1/5], Step [100/600], Loss: 0.2830\n",
      "Epoch [1/5], Step [200/600], Loss: 0.2568\n",
      "Epoch [1/5], Step [300/600], Loss: 0.2234\n",
      "Epoch [1/5], Step [400/600], Loss: 0.2253\n",
      "Epoch [1/5], Step [500/600], Loss: 0.2290\n",
      "Epoch [1/5], Step [600/600], Loss: 0.1826\n",
      "Epoch [2/5], Step [100/600], Loss: 0.0532\n",
      "Epoch [2/5], Step [200/600], Loss: 0.1856\n",
      "Epoch [2/5], Step [300/600], Loss: 0.2002\n",
      "Epoch [2/5], Step [400/600], Loss: 0.0796\n",
      "Epoch [2/5], Step [500/600], Loss: 0.1680\n",
      "Epoch [2/5], Step [600/600], Loss: 0.0860\n",
      "Epoch [3/5], Step [100/600], Loss: 0.1022\n",
      "Epoch [3/5], Step [200/600], Loss: 0.0439\n",
      "Epoch [3/5], Step [300/600], Loss: 0.0458\n",
      "Epoch [3/5], Step [400/600], Loss: 0.1025\n",
      "Epoch [3/5], Step [500/600], Loss: 0.0505\n",
      "Epoch [3/5], Step [600/600], Loss: 0.1071\n",
      "Epoch [4/5], Step [100/600], Loss: 0.0625\n",
      "Epoch [4/5], Step [200/600], Loss: 0.1229\n",
      "Epoch [4/5], Step [300/600], Loss: 0.0241\n",
      "Epoch [4/5], Step [400/600], Loss: 0.0532\n",
      "Epoch [4/5], Step [500/600], Loss: 0.0230\n",
      "Epoch [4/5], Step [600/600], Loss: 0.0448\n",
      "Epoch [5/5], Step [100/600], Loss: 0.0247\n",
      "Epoch [5/5], Step [200/600], Loss: 0.0094\n",
      "Epoch [5/5], Step [300/600], Loss: 0.0096\n",
      "Epoch [5/5], Step [400/600], Loss: 0.0406\n",
      "Epoch [5/5], Step [500/600], Loss: 0.0981\n",
      "Epoch [5/5], Step [600/600], Loss: 0.0214\n"
     ]
    }
   ],
   "source": [
    "def train(device, train_loader):\n",
    "    model = NeuralNet(input_size, hidden_size, num_classes).to(device)\n",
    "\n",
    "    # Loss and optimizer\n",
    "    criterion = nn.CrossEntropyLoss()\n",
    "    optimizer = torch.optim.Adam(model.parameters(), lr=learning_rate)  \n",
    "\n",
    "    # Train the model\n",
    "    total_step = len(train_loader)\n",
    "    for epoch in range(num_epochs):\n",
    "        for i, (images, labels) in enumerate(train_loader):  \n",
    "            # Move tensors to the configured device\n",
    "            images = images.reshape(-1, 28*28).to(device)\n",
    "            labels = labels.to(device)\n",
    "\n",
    "            # Forward pass\n",
    "            outputs = model(images)\n",
    "            loss = criterion(outputs, labels)\n",
    "\n",
    "            # Backward and optimize\n",
    "            optimizer.zero_grad()\n",
    "\n",
    "            loss.backward()\n",
    "            optimizer.step()\n",
    "\n",
    "            if (i+1) % 100 == 0:\n",
    "                print ('Epoch [{}/{}], Step [{}/{}], Loss: {:.4f}' \n",
    "                             .format(epoch+1, num_epochs, i+1, total_step, loss.item()))\n",
    "\n",
    "        # Save the model checkpoint\n",
    "        torch.save(model.state_dict(), 'model/model-{}.ckpt'.format(epoch))\n",
    "\n",
    "    return model\n",
    "\n",
    "model = train(device, train_loader)"
   ]
  },
  {
   "cell_type": "code",
   "execution_count": null,
   "metadata": {},
   "outputs": [],
   "source": [
    "print(net.classifier[6].weight.grad)"
   ]
  },
  {
   "cell_type": "code",
   "execution_count": 13,
   "metadata": {},
   "outputs": [
    {
     "name": "stdout",
     "output_type": "stream",
     "text": [
      "tensor(8.1417e-05, grad_fn=<NllLossBackward>)\n",
      "tensor(7.1390, grad_fn=<NllLossBackward>)\n",
      "Accuracy of the network w/o adversarial attack on the 10000 test images: 100.0 %\n",
      "Accuracy of the network with adversarial attack on the 10000 test images: 0.0 %\n",
      "Number of misclassified examples (as compared to clean predictions): 1/1\n"
     ]
    }
   ],
   "source": [
    "criterion = nn.CrossEntropyLoss()\n",
    "\n",
    "model = NeuralNet(input_size, hidden_size, num_classes).to(device)\n",
    "model.load_state_dict(torch.load(\"model/model-4.ckpt\"))\n",
    "optimizer = torch.optim.Adam(model.parameters(), lr=learning_rate)  \n",
    "\n",
    "correct = 0\n",
    "adv_correct = 0\n",
    "misclassified = 0\n",
    "total = 0\n",
    "noises = []\n",
    "y_preds = []\n",
    "y_preds_adv = []\n",
    "for images, labels in test_loader:\n",
    "    images = Variable(images.reshape(-1, 28*28).to(device), requires_grad=True)\n",
    "    labels = Variable(labels.to(device))\n",
    "\n",
    "    outputs = model(images)\n",
    "    loss = criterion(outputs, labels)\n",
    "    print(loss)\n",
    "    #optimizer.zero_grad()\n",
    "    loss.backward()\n",
    "    test1_grad = model.fc1.weight.grad\n",
    "    \n",
    "\n",
    "    #Add perturbation\n",
    "    grad = torch.sign(images.grad.data)\n",
    "    imgs_adv = torch.clamp(images.data + eps * grad, 0, 1)\n",
    "    model.zero_grad()\n",
    "\n",
    "    adv_outputs = model(Variable(imgs_adv))\n",
    "    loss = criterion(adv_outputs, labels)\n",
    "    print(loss)\n",
    "    #optimizer.zero_grad()\n",
    "    loss.backward()\n",
    "    test2_grad = model.fc1.weight.grad\n",
    "    \n",
    "\n",
    "    _, predicted = torch.max(outputs.data, 1)\n",
    "    ttt, adv_preds = torch.max(adv_outputs.data, 1)\n",
    "    #print(adv_outputs, \"ttt:\", ttt, \"pred:\", adv_preds, len(images), len(predicted))\n",
    "\n",
    "\n",
    "    total += labels.size(0)\n",
    "    correct += (predicted == labels).sum().item()\n",
    "    adv_correct += (adv_preds == labels).sum().item()\n",
    "    misclassified += (predicted != adv_preds).sum().item()\n",
    "    \n",
    "    if (predicted == labels) and (predicted != adv_preds):\n",
    "        break\n",
    "\n",
    "    noises.extend((images - imgs_adv).data.numpy())\n",
    "    y_preds.extend(predicted.data.numpy())\n",
    "    y_preds_adv.extend(adv_preds.data.numpy())\n",
    "    \n",
    "\n",
    "print('Accuracy of the network w/o adversarial attack on the 10000 test images: {} %'.format(100 * correct / total))\n",
    "print('Accuracy of the network with adversarial attack on the 10000 test images: {} %'.format(100 * adv_correct / total))\n",
    "print('Number of misclassified examples (as compared to clean predictions): {}/{}'.format(misclassified, total))\n",
    "\n"
   ]
  },
  {
   "cell_type": "code",
   "execution_count": 7,
   "metadata": {},
   "outputs": [
    {
     "data": {
      "text/plain": [
       "tensor([[ 0.0000, -0.0089,  0.0000,  ..., -0.0089,  0.0000,  0.0000],\n",
       "        [ 0.0000,  0.0033,  0.0000,  ...,  0.0033,  0.0000,  0.0000],\n",
       "        [ 0.0000,  0.0000,  0.0000,  ...,  0.0000,  0.0000,  0.0000],\n",
       "        ...,\n",
       "        [ 0.0000,  0.0025,  0.0000,  ...,  0.0025,  0.0000,  0.0000],\n",
       "        [ 0.0000,  0.0000,  0.0000,  ...,  0.0000,  0.0000,  0.0000],\n",
       "        [ 0.0000,  0.0015,  0.0000,  ...,  0.0015,  0.0000,  0.0000]])"
      ]
     },
     "execution_count": 7,
     "metadata": {},
     "output_type": "execute_result"
    }
   ],
   "source": [
    "test1_grad"
   ]
  },
  {
   "cell_type": "code",
   "execution_count": 8,
   "metadata": {},
   "outputs": [
    {
     "data": {
      "text/plain": [
       "tensor([[ 0.0000, -0.0089,  0.0000,  ..., -0.0089,  0.0000,  0.0000],\n",
       "        [ 0.0000,  0.0033,  0.0000,  ...,  0.0033,  0.0000,  0.0000],\n",
       "        [ 0.0000,  0.0000,  0.0000,  ...,  0.0000,  0.0000,  0.0000],\n",
       "        ...,\n",
       "        [ 0.0000,  0.0025,  0.0000,  ...,  0.0025,  0.0000,  0.0000],\n",
       "        [ 0.0000,  0.0000,  0.0000,  ...,  0.0000,  0.0000,  0.0000],\n",
       "        [ 0.0000,  0.0015,  0.0000,  ...,  0.0015,  0.0000,  0.0000]])"
      ]
     },
     "execution_count": 8,
     "metadata": {},
     "output_type": "execute_result"
    }
   ],
   "source": [
    "test2_grad"
   ]
  },
  {
   "cell_type": "code",
   "execution_count": 9,
   "metadata": {},
   "outputs": [
    {
     "data": {
      "text/plain": [
       "tensor([[ -5.4141,  -7.0395,  -2.1516,  -0.0640, -12.8064,  -6.8077, -17.2413,\n",
       "           9.7660,  -2.0573,  -1.4654]], grad_fn=<AddmmBackward>)"
      ]
     },
     "execution_count": 9,
     "metadata": {},
     "output_type": "execute_result"
    }
   ],
   "source": [
    "outputs"
   ]
  },
  {
   "cell_type": "code",
   "execution_count": 10,
   "metadata": {},
   "outputs": [
    {
     "data": {
      "text/plain": [
       "tensor([[ -4.7388,  -7.3759,  -1.1161,   5.6317, -15.0777,   0.2700, -14.2866,\n",
       "          -1.4578,   2.4740,  -0.8955]], grad_fn=<AddmmBackward>)"
      ]
     },
     "execution_count": 10,
     "metadata": {},
     "output_type": "execute_result"
    }
   ],
   "source": [
    "adv_outputs"
   ]
  },
  {
   "cell_type": "code",
   "execution_count": 12,
   "metadata": {},
   "outputs": [
    {
     "data": {
      "text/plain": [
       "tensor(7.1390, grad_fn=<NllLossBackward>)"
      ]
     },
     "execution_count": 12,
     "metadata": {},
     "output_type": "execute_result"
    }
   ],
   "source": [
    "loss"
   ]
  },
  {
   "cell_type": "code",
   "execution_count": null,
   "metadata": {},
   "outputs": [],
   "source": [
    "with open(\"mnist_fgsm.pkl\",\"wb\") as f: \n",
    "        data_dict = {\n",
    "                        \"noises\" : noises,\n",
    "                        \"y_preds\" : y_preds,\n",
    "                        \"y_preds_adv\" : y_preds_adv\n",
    "                        }    \n",
    "        pkl.dump(data_dict, f)"
   ]
  },
  {
   "cell_type": "code",
   "execution_count": null,
   "metadata": {},
   "outputs": [],
   "source": []
  }
 ],
 "metadata": {
  "kernelspec": {
   "display_name": "Python 3",
   "language": "python",
   "name": "python3"
  },
  "language_info": {
   "codemirror_mode": {
    "name": "ipython",
    "version": 3
   },
   "file_extension": ".py",
   "mimetype": "text/x-python",
   "name": "python",
   "nbconvert_exporter": "python",
   "pygments_lexer": "ipython3",
   "version": "3.7.4"
  }
 },
 "nbformat": 4,
 "nbformat_minor": 4
}
